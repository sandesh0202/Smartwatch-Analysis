{
 "cells": [
  {
   "cell_type": "markdown",
   "id": "19f8b167",
   "metadata": {},
   "source": [
    "<span style='color:Red; fontsize : 25px'> INDEX </span>  <br> \n",
    "<a id =1> </a> <br> \n",
    "         [Introduction](#Introduction)\n",
    "    <a id =2> </a>  \n",
    "         [Processs](#Process)\n",
    "    <a id =3> </a>  \n",
    "         [Analyse](#Analyse)\n",
    "    <a id =4> </a>  \n",
    "         [Visualization](#Visualization) \n",
    "    <a id =3> </a>  \n",
    "         [Final Act](#Final-Act)"
   ]
  },
  {
   "cell_type": "markdown",
   "id": "829dcd64",
   "metadata": {},
   "source": [
    "# Introduction\n",
    "Let's consider that there is a Wellness Care Company that wants suggestions to increase business. Data collected by Smartwatch can be used to increase their business. We will analyse this data and see how we can increase their business."
   ]
  },
  {
   "cell_type": "markdown",
   "id": "201ac42e",
   "metadata": {},
   "source": [
    "# Process"
   ]
  },
  {
   "cell_type": "code",
   "execution_count": 1,
   "id": "17f66fbe",
   "metadata": {
    "scrolled": false
   },
   "outputs": [],
   "source": [
    "# Loading Libraries\n",
    "%matplotlib inline\n",
    "import numpy as np\n",
    "import pandas as pd\n",
    "import datetime as dt\n",
    "import matplotlib.pyplot as plt\n",
    "import seaborn as sns"
   ]
  },
  {
   "cell_type": "code",
   "execution_count": 2,
   "id": "ab43784a",
   "metadata": {
    "scrolled": false
   },
   "outputs": [],
   "source": [
    "# Loading Datasets\n",
    "daily_activity = pd.read_csv(\"C:\\Datasets\\FitBit_Fitness_Tracker_Data\\Fitabase_Data\\dailyActivity_merged.csv\")\n",
    "daily_calories = pd.read_csv(\"C:\\Datasets\\FitBit_Fitness_Tracker_Data\\Fitabase_Data\\dailyCalories_merged.csv\")\n",
    "daily_intensities = pd.read_csv(\"C:\\Datasets\\FitBit_Fitness_Tracker_Data\\Fitabase_Data\\dailyIntensities_merged.csv\")\n",
    "daily_steps = pd.read_csv(\"C:\\Datasets\\FitBit_Fitness_Tracker_Data\\Fitabase_Data\\dailySteps_merged.csv\")\n",
    "heartrate = pd.read_csv(\"C:\\Datasets\\FitBit_Fitness_Tracker_Data\\Fitabase_Data\\heartrate_seconds_merged.csv\")\n",
    "daily_sleep = pd.read_csv(\"C:\\Datasets\\FitBit_Fitness_Tracker_Data\\Fitabase_Data\\sleepDay_merged.csv\")\n",
    "hourly_steps = pd.read_csv(\"C:\\Datasets\\FitBit_Fitness_Tracker_Data\\Fitabase_Data\\hourlySteps_merged.csv\")\n",
    "hourly_calories = pd.read_csv(\"C:\\Datasets\\FitBit_Fitness_Tracker_Data\\Fitabase_Data\\hourlyCalories_merged.csv\")\n",
    "weight_log = pd.read_csv(\"C:\\Datasets\\FitBit_Fitness_Tracker_Data\\Fitabase_Data\\weightLogInfo_merged.csv\")"
   ]
  },
  {
   "cell_type": "code",
   "execution_count": 3,
   "id": "6709fd27",
   "metadata": {
    "scrolled": true
   },
   "outputs": [
    {
     "data": {
      "text/html": [
       "<div>\n",
       "<style scoped>\n",
       "    .dataframe tbody tr th:only-of-type {\n",
       "        vertical-align: middle;\n",
       "    }\n",
       "\n",
       "    .dataframe tbody tr th {\n",
       "        vertical-align: top;\n",
       "    }\n",
       "\n",
       "    .dataframe thead th {\n",
       "        text-align: right;\n",
       "    }\n",
       "</style>\n",
       "<table border=\"1\" class=\"dataframe\">\n",
       "  <thead>\n",
       "    <tr style=\"text-align: right;\">\n",
       "      <th></th>\n",
       "      <th>Id</th>\n",
       "      <th>ActivityDate</th>\n",
       "      <th>TotalSteps</th>\n",
       "      <th>TotalDistance</th>\n",
       "      <th>TrackerDistance</th>\n",
       "      <th>LoggedActivitiesDistance</th>\n",
       "      <th>VeryActiveDistance</th>\n",
       "      <th>ModeratelyActiveDistance</th>\n",
       "      <th>LightActiveDistance</th>\n",
       "      <th>SedentaryActiveDistance</th>\n",
       "      <th>VeryActiveMinutes</th>\n",
       "      <th>FairlyActiveMinutes</th>\n",
       "      <th>LightlyActiveMinutes</th>\n",
       "      <th>SedentaryMinutes</th>\n",
       "      <th>Calories</th>\n",
       "    </tr>\n",
       "  </thead>\n",
       "  <tbody>\n",
       "    <tr>\n",
       "      <th>0</th>\n",
       "      <td>1503960366</td>\n",
       "      <td>4/12/2016</td>\n",
       "      <td>13162</td>\n",
       "      <td>8.50</td>\n",
       "      <td>8.50</td>\n",
       "      <td>0.0</td>\n",
       "      <td>1.88</td>\n",
       "      <td>0.55</td>\n",
       "      <td>6.06</td>\n",
       "      <td>0.0</td>\n",
       "      <td>25</td>\n",
       "      <td>13</td>\n",
       "      <td>328</td>\n",
       "      <td>728</td>\n",
       "      <td>1985</td>\n",
       "    </tr>\n",
       "    <tr>\n",
       "      <th>1</th>\n",
       "      <td>1503960366</td>\n",
       "      <td>4/13/2016</td>\n",
       "      <td>10735</td>\n",
       "      <td>6.97</td>\n",
       "      <td>6.97</td>\n",
       "      <td>0.0</td>\n",
       "      <td>1.57</td>\n",
       "      <td>0.69</td>\n",
       "      <td>4.71</td>\n",
       "      <td>0.0</td>\n",
       "      <td>21</td>\n",
       "      <td>19</td>\n",
       "      <td>217</td>\n",
       "      <td>776</td>\n",
       "      <td>1797</td>\n",
       "    </tr>\n",
       "    <tr>\n",
       "      <th>2</th>\n",
       "      <td>1503960366</td>\n",
       "      <td>4/14/2016</td>\n",
       "      <td>10460</td>\n",
       "      <td>6.74</td>\n",
       "      <td>6.74</td>\n",
       "      <td>0.0</td>\n",
       "      <td>2.44</td>\n",
       "      <td>0.40</td>\n",
       "      <td>3.91</td>\n",
       "      <td>0.0</td>\n",
       "      <td>30</td>\n",
       "      <td>11</td>\n",
       "      <td>181</td>\n",
       "      <td>1218</td>\n",
       "      <td>1776</td>\n",
       "    </tr>\n",
       "    <tr>\n",
       "      <th>3</th>\n",
       "      <td>1503960366</td>\n",
       "      <td>4/15/2016</td>\n",
       "      <td>9762</td>\n",
       "      <td>6.28</td>\n",
       "      <td>6.28</td>\n",
       "      <td>0.0</td>\n",
       "      <td>2.14</td>\n",
       "      <td>1.26</td>\n",
       "      <td>2.83</td>\n",
       "      <td>0.0</td>\n",
       "      <td>29</td>\n",
       "      <td>34</td>\n",
       "      <td>209</td>\n",
       "      <td>726</td>\n",
       "      <td>1745</td>\n",
       "    </tr>\n",
       "    <tr>\n",
       "      <th>4</th>\n",
       "      <td>1503960366</td>\n",
       "      <td>4/16/2016</td>\n",
       "      <td>12669</td>\n",
       "      <td>8.16</td>\n",
       "      <td>8.16</td>\n",
       "      <td>0.0</td>\n",
       "      <td>2.71</td>\n",
       "      <td>0.41</td>\n",
       "      <td>5.04</td>\n",
       "      <td>0.0</td>\n",
       "      <td>36</td>\n",
       "      <td>10</td>\n",
       "      <td>221</td>\n",
       "      <td>773</td>\n",
       "      <td>1863</td>\n",
       "    </tr>\n",
       "  </tbody>\n",
       "</table>\n",
       "</div>"
      ],
      "text/plain": [
       "           Id ActivityDate  TotalSteps  TotalDistance  TrackerDistance  \\\n",
       "0  1503960366    4/12/2016       13162           8.50             8.50   \n",
       "1  1503960366    4/13/2016       10735           6.97             6.97   \n",
       "2  1503960366    4/14/2016       10460           6.74             6.74   \n",
       "3  1503960366    4/15/2016        9762           6.28             6.28   \n",
       "4  1503960366    4/16/2016       12669           8.16             8.16   \n",
       "\n",
       "   LoggedActivitiesDistance  VeryActiveDistance  ModeratelyActiveDistance  \\\n",
       "0                       0.0                1.88                      0.55   \n",
       "1                       0.0                1.57                      0.69   \n",
       "2                       0.0                2.44                      0.40   \n",
       "3                       0.0                2.14                      1.26   \n",
       "4                       0.0                2.71                      0.41   \n",
       "\n",
       "   LightActiveDistance  SedentaryActiveDistance  VeryActiveMinutes  \\\n",
       "0                 6.06                      0.0                 25   \n",
       "1                 4.71                      0.0                 21   \n",
       "2                 3.91                      0.0                 30   \n",
       "3                 2.83                      0.0                 29   \n",
       "4                 5.04                      0.0                 36   \n",
       "\n",
       "   FairlyActiveMinutes  LightlyActiveMinutes  SedentaryMinutes  Calories  \n",
       "0                   13                   328               728      1985  \n",
       "1                   19                   217               776      1797  \n",
       "2                   11                   181              1218      1776  \n",
       "3                   34                   209               726      1745  \n",
       "4                   10                   221               773      1863  "
      ]
     },
     "execution_count": 3,
     "metadata": {},
     "output_type": "execute_result"
    }
   ],
   "source": [
    "daily_activity.head()"
   ]
  },
  {
   "cell_type": "code",
   "execution_count": 4,
   "id": "1b668795",
   "metadata": {
    "scrolled": false
   },
   "outputs": [
    {
     "data": {
      "text/html": [
       "<div>\n",
       "<style scoped>\n",
       "    .dataframe tbody tr th:only-of-type {\n",
       "        vertical-align: middle;\n",
       "    }\n",
       "\n",
       "    .dataframe tbody tr th {\n",
       "        vertical-align: top;\n",
       "    }\n",
       "\n",
       "    .dataframe thead th {\n",
       "        text-align: right;\n",
       "    }\n",
       "</style>\n",
       "<table border=\"1\" class=\"dataframe\">\n",
       "  <thead>\n",
       "    <tr style=\"text-align: right;\">\n",
       "      <th></th>\n",
       "      <th>Id</th>\n",
       "      <th>ActivityDay</th>\n",
       "      <th>Calories</th>\n",
       "    </tr>\n",
       "  </thead>\n",
       "  <tbody>\n",
       "    <tr>\n",
       "      <th>0</th>\n",
       "      <td>1503960366</td>\n",
       "      <td>4/12/2016</td>\n",
       "      <td>1985</td>\n",
       "    </tr>\n",
       "    <tr>\n",
       "      <th>1</th>\n",
       "      <td>1503960366</td>\n",
       "      <td>4/13/2016</td>\n",
       "      <td>1797</td>\n",
       "    </tr>\n",
       "    <tr>\n",
       "      <th>2</th>\n",
       "      <td>1503960366</td>\n",
       "      <td>4/14/2016</td>\n",
       "      <td>1776</td>\n",
       "    </tr>\n",
       "    <tr>\n",
       "      <th>3</th>\n",
       "      <td>1503960366</td>\n",
       "      <td>4/15/2016</td>\n",
       "      <td>1745</td>\n",
       "    </tr>\n",
       "    <tr>\n",
       "      <th>4</th>\n",
       "      <td>1503960366</td>\n",
       "      <td>4/16/2016</td>\n",
       "      <td>1863</td>\n",
       "    </tr>\n",
       "  </tbody>\n",
       "</table>\n",
       "</div>"
      ],
      "text/plain": [
       "           Id ActivityDay  Calories\n",
       "0  1503960366   4/12/2016      1985\n",
       "1  1503960366   4/13/2016      1797\n",
       "2  1503960366   4/14/2016      1776\n",
       "3  1503960366   4/15/2016      1745\n",
       "4  1503960366   4/16/2016      1863"
      ]
     },
     "execution_count": 4,
     "metadata": {},
     "output_type": "execute_result"
    }
   ],
   "source": [
    "daily_calories.head()"
   ]
  },
  {
   "cell_type": "code",
   "execution_count": 5,
   "id": "0c24f2fb",
   "metadata": {
    "scrolled": false
   },
   "outputs": [
    {
     "data": {
      "text/html": [
       "<div>\n",
       "<style scoped>\n",
       "    .dataframe tbody tr th:only-of-type {\n",
       "        vertical-align: middle;\n",
       "    }\n",
       "\n",
       "    .dataframe tbody tr th {\n",
       "        vertical-align: top;\n",
       "    }\n",
       "\n",
       "    .dataframe thead th {\n",
       "        text-align: right;\n",
       "    }\n",
       "</style>\n",
       "<table border=\"1\" class=\"dataframe\">\n",
       "  <thead>\n",
       "    <tr style=\"text-align: right;\">\n",
       "      <th></th>\n",
       "      <th>Id</th>\n",
       "      <th>ActivityDay</th>\n",
       "      <th>SedentaryMinutes</th>\n",
       "      <th>LightlyActiveMinutes</th>\n",
       "      <th>FairlyActiveMinutes</th>\n",
       "      <th>VeryActiveMinutes</th>\n",
       "      <th>SedentaryActiveDistance</th>\n",
       "      <th>LightActiveDistance</th>\n",
       "      <th>ModeratelyActiveDistance</th>\n",
       "      <th>VeryActiveDistance</th>\n",
       "    </tr>\n",
       "  </thead>\n",
       "  <tbody>\n",
       "    <tr>\n",
       "      <th>0</th>\n",
       "      <td>1503960366</td>\n",
       "      <td>4/12/2016</td>\n",
       "      <td>728</td>\n",
       "      <td>328</td>\n",
       "      <td>13</td>\n",
       "      <td>25</td>\n",
       "      <td>0.0</td>\n",
       "      <td>6.06</td>\n",
       "      <td>0.55</td>\n",
       "      <td>1.88</td>\n",
       "    </tr>\n",
       "    <tr>\n",
       "      <th>1</th>\n",
       "      <td>1503960366</td>\n",
       "      <td>4/13/2016</td>\n",
       "      <td>776</td>\n",
       "      <td>217</td>\n",
       "      <td>19</td>\n",
       "      <td>21</td>\n",
       "      <td>0.0</td>\n",
       "      <td>4.71</td>\n",
       "      <td>0.69</td>\n",
       "      <td>1.57</td>\n",
       "    </tr>\n",
       "    <tr>\n",
       "      <th>2</th>\n",
       "      <td>1503960366</td>\n",
       "      <td>4/14/2016</td>\n",
       "      <td>1218</td>\n",
       "      <td>181</td>\n",
       "      <td>11</td>\n",
       "      <td>30</td>\n",
       "      <td>0.0</td>\n",
       "      <td>3.91</td>\n",
       "      <td>0.40</td>\n",
       "      <td>2.44</td>\n",
       "    </tr>\n",
       "    <tr>\n",
       "      <th>3</th>\n",
       "      <td>1503960366</td>\n",
       "      <td>4/15/2016</td>\n",
       "      <td>726</td>\n",
       "      <td>209</td>\n",
       "      <td>34</td>\n",
       "      <td>29</td>\n",
       "      <td>0.0</td>\n",
       "      <td>2.83</td>\n",
       "      <td>1.26</td>\n",
       "      <td>2.14</td>\n",
       "    </tr>\n",
       "    <tr>\n",
       "      <th>4</th>\n",
       "      <td>1503960366</td>\n",
       "      <td>4/16/2016</td>\n",
       "      <td>773</td>\n",
       "      <td>221</td>\n",
       "      <td>10</td>\n",
       "      <td>36</td>\n",
       "      <td>0.0</td>\n",
       "      <td>5.04</td>\n",
       "      <td>0.41</td>\n",
       "      <td>2.71</td>\n",
       "    </tr>\n",
       "  </tbody>\n",
       "</table>\n",
       "</div>"
      ],
      "text/plain": [
       "           Id ActivityDay  SedentaryMinutes  LightlyActiveMinutes  \\\n",
       "0  1503960366   4/12/2016               728                   328   \n",
       "1  1503960366   4/13/2016               776                   217   \n",
       "2  1503960366   4/14/2016              1218                   181   \n",
       "3  1503960366   4/15/2016               726                   209   \n",
       "4  1503960366   4/16/2016               773                   221   \n",
       "\n",
       "   FairlyActiveMinutes  VeryActiveMinutes  SedentaryActiveDistance  \\\n",
       "0                   13                 25                      0.0   \n",
       "1                   19                 21                      0.0   \n",
       "2                   11                 30                      0.0   \n",
       "3                   34                 29                      0.0   \n",
       "4                   10                 36                      0.0   \n",
       "\n",
       "   LightActiveDistance  ModeratelyActiveDistance  VeryActiveDistance  \n",
       "0                 6.06                      0.55                1.88  \n",
       "1                 4.71                      0.69                1.57  \n",
       "2                 3.91                      0.40                2.44  \n",
       "3                 2.83                      1.26                2.14  \n",
       "4                 5.04                      0.41                2.71  "
      ]
     },
     "execution_count": 5,
     "metadata": {},
     "output_type": "execute_result"
    }
   ],
   "source": [
    "daily_intensities.head()"
   ]
  },
  {
   "cell_type": "code",
   "execution_count": 6,
   "id": "3c6e9bdf",
   "metadata": {
    "scrolled": false
   },
   "outputs": [
    {
     "data": {
      "text/html": [
       "<div>\n",
       "<style scoped>\n",
       "    .dataframe tbody tr th:only-of-type {\n",
       "        vertical-align: middle;\n",
       "    }\n",
       "\n",
       "    .dataframe tbody tr th {\n",
       "        vertical-align: top;\n",
       "    }\n",
       "\n",
       "    .dataframe thead th {\n",
       "        text-align: right;\n",
       "    }\n",
       "</style>\n",
       "<table border=\"1\" class=\"dataframe\">\n",
       "  <thead>\n",
       "    <tr style=\"text-align: right;\">\n",
       "      <th></th>\n",
       "      <th>Id</th>\n",
       "      <th>ActivityDay</th>\n",
       "      <th>StepTotal</th>\n",
       "    </tr>\n",
       "  </thead>\n",
       "  <tbody>\n",
       "    <tr>\n",
       "      <th>0</th>\n",
       "      <td>1503960366</td>\n",
       "      <td>4/12/2016</td>\n",
       "      <td>13162</td>\n",
       "    </tr>\n",
       "    <tr>\n",
       "      <th>1</th>\n",
       "      <td>1503960366</td>\n",
       "      <td>4/13/2016</td>\n",
       "      <td>10735</td>\n",
       "    </tr>\n",
       "    <tr>\n",
       "      <th>2</th>\n",
       "      <td>1503960366</td>\n",
       "      <td>4/14/2016</td>\n",
       "      <td>10460</td>\n",
       "    </tr>\n",
       "    <tr>\n",
       "      <th>3</th>\n",
       "      <td>1503960366</td>\n",
       "      <td>4/15/2016</td>\n",
       "      <td>9762</td>\n",
       "    </tr>\n",
       "    <tr>\n",
       "      <th>4</th>\n",
       "      <td>1503960366</td>\n",
       "      <td>4/16/2016</td>\n",
       "      <td>12669</td>\n",
       "    </tr>\n",
       "  </tbody>\n",
       "</table>\n",
       "</div>"
      ],
      "text/plain": [
       "           Id ActivityDay  StepTotal\n",
       "0  1503960366   4/12/2016      13162\n",
       "1  1503960366   4/13/2016      10735\n",
       "2  1503960366   4/14/2016      10460\n",
       "3  1503960366   4/15/2016       9762\n",
       "4  1503960366   4/16/2016      12669"
      ]
     },
     "execution_count": 6,
     "metadata": {},
     "output_type": "execute_result"
    }
   ],
   "source": [
    "daily_steps.head()"
   ]
  },
  {
   "cell_type": "code",
   "execution_count": 7,
   "id": "58d81bbf",
   "metadata": {
    "scrolled": false
   },
   "outputs": [
    {
     "data": {
      "text/html": [
       "<div>\n",
       "<style scoped>\n",
       "    .dataframe tbody tr th:only-of-type {\n",
       "        vertical-align: middle;\n",
       "    }\n",
       "\n",
       "    .dataframe tbody tr th {\n",
       "        vertical-align: top;\n",
       "    }\n",
       "\n",
       "    .dataframe thead th {\n",
       "        text-align: right;\n",
       "    }\n",
       "</style>\n",
       "<table border=\"1\" class=\"dataframe\">\n",
       "  <thead>\n",
       "    <tr style=\"text-align: right;\">\n",
       "      <th></th>\n",
       "      <th>Id</th>\n",
       "      <th>Time</th>\n",
       "      <th>Value</th>\n",
       "    </tr>\n",
       "  </thead>\n",
       "  <tbody>\n",
       "    <tr>\n",
       "      <th>0</th>\n",
       "      <td>2022484408</td>\n",
       "      <td>4/12/2016 7:21:00 AM</td>\n",
       "      <td>97</td>\n",
       "    </tr>\n",
       "    <tr>\n",
       "      <th>1</th>\n",
       "      <td>2022484408</td>\n",
       "      <td>4/12/2016 7:21:05 AM</td>\n",
       "      <td>102</td>\n",
       "    </tr>\n",
       "    <tr>\n",
       "      <th>2</th>\n",
       "      <td>2022484408</td>\n",
       "      <td>4/12/2016 7:21:10 AM</td>\n",
       "      <td>105</td>\n",
       "    </tr>\n",
       "    <tr>\n",
       "      <th>3</th>\n",
       "      <td>2022484408</td>\n",
       "      <td>4/12/2016 7:21:20 AM</td>\n",
       "      <td>103</td>\n",
       "    </tr>\n",
       "    <tr>\n",
       "      <th>4</th>\n",
       "      <td>2022484408</td>\n",
       "      <td>4/12/2016 7:21:25 AM</td>\n",
       "      <td>101</td>\n",
       "    </tr>\n",
       "  </tbody>\n",
       "</table>\n",
       "</div>"
      ],
      "text/plain": [
       "           Id                  Time  Value\n",
       "0  2022484408  4/12/2016 7:21:00 AM     97\n",
       "1  2022484408  4/12/2016 7:21:05 AM    102\n",
       "2  2022484408  4/12/2016 7:21:10 AM    105\n",
       "3  2022484408  4/12/2016 7:21:20 AM    103\n",
       "4  2022484408  4/12/2016 7:21:25 AM    101"
      ]
     },
     "execution_count": 7,
     "metadata": {},
     "output_type": "execute_result"
    }
   ],
   "source": [
    "heartrate.head()"
   ]
  },
  {
   "cell_type": "code",
   "execution_count": 8,
   "id": "4670aa66",
   "metadata": {
    "scrolled": true
   },
   "outputs": [
    {
     "data": {
      "text/html": [
       "<div>\n",
       "<style scoped>\n",
       "    .dataframe tbody tr th:only-of-type {\n",
       "        vertical-align: middle;\n",
       "    }\n",
       "\n",
       "    .dataframe tbody tr th {\n",
       "        vertical-align: top;\n",
       "    }\n",
       "\n",
       "    .dataframe thead th {\n",
       "        text-align: right;\n",
       "    }\n",
       "</style>\n",
       "<table border=\"1\" class=\"dataframe\">\n",
       "  <thead>\n",
       "    <tr style=\"text-align: right;\">\n",
       "      <th></th>\n",
       "      <th>Id</th>\n",
       "      <th>SleepDay</th>\n",
       "      <th>TotalSleepRecords</th>\n",
       "      <th>TotalMinutesAsleep</th>\n",
       "      <th>TotalTimeInBed</th>\n",
       "    </tr>\n",
       "  </thead>\n",
       "  <tbody>\n",
       "    <tr>\n",
       "      <th>0</th>\n",
       "      <td>1503960366</td>\n",
       "      <td>4/12/2016 12:00:00 AM</td>\n",
       "      <td>1</td>\n",
       "      <td>327</td>\n",
       "      <td>346</td>\n",
       "    </tr>\n",
       "    <tr>\n",
       "      <th>1</th>\n",
       "      <td>1503960366</td>\n",
       "      <td>4/13/2016 12:00:00 AM</td>\n",
       "      <td>2</td>\n",
       "      <td>384</td>\n",
       "      <td>407</td>\n",
       "    </tr>\n",
       "    <tr>\n",
       "      <th>2</th>\n",
       "      <td>1503960366</td>\n",
       "      <td>4/15/2016 12:00:00 AM</td>\n",
       "      <td>1</td>\n",
       "      <td>412</td>\n",
       "      <td>442</td>\n",
       "    </tr>\n",
       "    <tr>\n",
       "      <th>3</th>\n",
       "      <td>1503960366</td>\n",
       "      <td>4/16/2016 12:00:00 AM</td>\n",
       "      <td>2</td>\n",
       "      <td>340</td>\n",
       "      <td>367</td>\n",
       "    </tr>\n",
       "    <tr>\n",
       "      <th>4</th>\n",
       "      <td>1503960366</td>\n",
       "      <td>4/17/2016 12:00:00 AM</td>\n",
       "      <td>1</td>\n",
       "      <td>700</td>\n",
       "      <td>712</td>\n",
       "    </tr>\n",
       "  </tbody>\n",
       "</table>\n",
       "</div>"
      ],
      "text/plain": [
       "           Id               SleepDay  TotalSleepRecords  TotalMinutesAsleep  \\\n",
       "0  1503960366  4/12/2016 12:00:00 AM                  1                 327   \n",
       "1  1503960366  4/13/2016 12:00:00 AM                  2                 384   \n",
       "2  1503960366  4/15/2016 12:00:00 AM                  1                 412   \n",
       "3  1503960366  4/16/2016 12:00:00 AM                  2                 340   \n",
       "4  1503960366  4/17/2016 12:00:00 AM                  1                 700   \n",
       "\n",
       "   TotalTimeInBed  \n",
       "0             346  \n",
       "1             407  \n",
       "2             442  \n",
       "3             367  \n",
       "4             712  "
      ]
     },
     "execution_count": 8,
     "metadata": {},
     "output_type": "execute_result"
    }
   ],
   "source": [
    "daily_sleep.head()"
   ]
  },
  {
   "cell_type": "code",
   "execution_count": 9,
   "id": "d4cd4f1d",
   "metadata": {
    "scrolled": false
   },
   "outputs": [
    {
     "data": {
      "text/html": [
       "<div>\n",
       "<style scoped>\n",
       "    .dataframe tbody tr th:only-of-type {\n",
       "        vertical-align: middle;\n",
       "    }\n",
       "\n",
       "    .dataframe tbody tr th {\n",
       "        vertical-align: top;\n",
       "    }\n",
       "\n",
       "    .dataframe thead th {\n",
       "        text-align: right;\n",
       "    }\n",
       "</style>\n",
       "<table border=\"1\" class=\"dataframe\">\n",
       "  <thead>\n",
       "    <tr style=\"text-align: right;\">\n",
       "      <th></th>\n",
       "      <th>Id</th>\n",
       "      <th>Date</th>\n",
       "      <th>WeightKg</th>\n",
       "      <th>WeightPounds</th>\n",
       "      <th>Fat</th>\n",
       "      <th>BMI</th>\n",
       "      <th>IsManualReport</th>\n",
       "      <th>LogId</th>\n",
       "    </tr>\n",
       "  </thead>\n",
       "  <tbody>\n",
       "    <tr>\n",
       "      <th>0</th>\n",
       "      <td>1503960366</td>\n",
       "      <td>5/2/2016 11:59:59 PM</td>\n",
       "      <td>52.599998</td>\n",
       "      <td>115.963147</td>\n",
       "      <td>22.0</td>\n",
       "      <td>22.650000</td>\n",
       "      <td>True</td>\n",
       "      <td>1462233599000</td>\n",
       "    </tr>\n",
       "    <tr>\n",
       "      <th>1</th>\n",
       "      <td>1503960366</td>\n",
       "      <td>5/3/2016 11:59:59 PM</td>\n",
       "      <td>52.599998</td>\n",
       "      <td>115.963147</td>\n",
       "      <td>NaN</td>\n",
       "      <td>22.650000</td>\n",
       "      <td>True</td>\n",
       "      <td>1462319999000</td>\n",
       "    </tr>\n",
       "    <tr>\n",
       "      <th>2</th>\n",
       "      <td>1927972279</td>\n",
       "      <td>4/13/2016 1:08:52 AM</td>\n",
       "      <td>133.500000</td>\n",
       "      <td>294.317120</td>\n",
       "      <td>NaN</td>\n",
       "      <td>47.540001</td>\n",
       "      <td>False</td>\n",
       "      <td>1460509732000</td>\n",
       "    </tr>\n",
       "    <tr>\n",
       "      <th>3</th>\n",
       "      <td>2873212765</td>\n",
       "      <td>4/21/2016 11:59:59 PM</td>\n",
       "      <td>56.700001</td>\n",
       "      <td>125.002104</td>\n",
       "      <td>NaN</td>\n",
       "      <td>21.450001</td>\n",
       "      <td>True</td>\n",
       "      <td>1461283199000</td>\n",
       "    </tr>\n",
       "    <tr>\n",
       "      <th>4</th>\n",
       "      <td>2873212765</td>\n",
       "      <td>5/12/2016 11:59:59 PM</td>\n",
       "      <td>57.299999</td>\n",
       "      <td>126.324875</td>\n",
       "      <td>NaN</td>\n",
       "      <td>21.690001</td>\n",
       "      <td>True</td>\n",
       "      <td>1463097599000</td>\n",
       "    </tr>\n",
       "  </tbody>\n",
       "</table>\n",
       "</div>"
      ],
      "text/plain": [
       "           Id                   Date    WeightKg  WeightPounds   Fat  \\\n",
       "0  1503960366   5/2/2016 11:59:59 PM   52.599998    115.963147  22.0   \n",
       "1  1503960366   5/3/2016 11:59:59 PM   52.599998    115.963147   NaN   \n",
       "2  1927972279   4/13/2016 1:08:52 AM  133.500000    294.317120   NaN   \n",
       "3  2873212765  4/21/2016 11:59:59 PM   56.700001    125.002104   NaN   \n",
       "4  2873212765  5/12/2016 11:59:59 PM   57.299999    126.324875   NaN   \n",
       "\n",
       "         BMI  IsManualReport          LogId  \n",
       "0  22.650000            True  1462233599000  \n",
       "1  22.650000            True  1462319999000  \n",
       "2  47.540001           False  1460509732000  \n",
       "3  21.450001            True  1461283199000  \n",
       "4  21.690001            True  1463097599000  "
      ]
     },
     "execution_count": 9,
     "metadata": {},
     "output_type": "execute_result"
    }
   ],
   "source": [
    "weight_log.head()"
   ]
  },
  {
   "cell_type": "code",
   "execution_count": 10,
   "id": "69322b80",
   "metadata": {
    "scrolled": true
   },
   "outputs": [
    {
     "name": "stdout",
     "output_type": "stream",
     "text": [
      "Daily Activity: Index(['Id', 'ActivityDate', 'TotalSteps', 'TotalDistance', 'TrackerDistance',\n",
      "       'LoggedActivitiesDistance', 'VeryActiveDistance',\n",
      "       'ModeratelyActiveDistance', 'LightActiveDistance',\n",
      "       'SedentaryActiveDistance', 'VeryActiveMinutes', 'FairlyActiveMinutes',\n",
      "       'LightlyActiveMinutes', 'SedentaryMinutes', 'Calories'],\n",
      "      dtype='object')\n",
      "Hourly Steps: Index(['Id', 'ActivityHour', 'StepTotal'], dtype='object')\n",
      "Hourly Calories: Index(['Id', 'ActivityHour', 'Calories'], dtype='object')\n",
      "Daily Sleep: Index(['Id', 'SleepDay', 'TotalSleepRecords', 'TotalMinutesAsleep',\n",
      "       'TotalTimeInBed'],\n",
      "      dtype='object')\n",
      "Daily Calories: Index(['Id', 'ActivityDay', 'Calories'], dtype='object')\n",
      "Daily Intensity: Index(['Id', 'ActivityDay', 'SedentaryMinutes', 'LightlyActiveMinutes',\n",
      "       'FairlyActiveMinutes', 'VeryActiveMinutes', 'SedentaryActiveDistance',\n",
      "       'LightActiveDistance', 'ModeratelyActiveDistance',\n",
      "       'VeryActiveDistance'],\n",
      "      dtype='object')\n",
      "Weight Log: Index(['Id', 'Date', 'WeightKg', 'WeightPounds', 'Fat', 'BMI',\n",
      "       'IsManualReport', 'LogId'],\n",
      "      dtype='object')\n",
      "Daily Steps: Index(['Id', 'ActivityDay', 'StepTotal'], dtype='object')\n",
      "Heart Rate: Index(['Id', 'Time', 'Value'], dtype='object')\n"
     ]
    }
   ],
   "source": [
    "# List out all columns in all datasets\n",
    "print(\"Daily Activity:\",daily_activity.columns)\n",
    "print(\"Hourly Steps:\",hourly_steps.columns)\n",
    "print(\"Hourly Calories:\",hourly_calories.columns)\n",
    "print(\"Daily Sleep:\",daily_sleep.columns)\n",
    "print(\"Daily Calories:\",daily_calories.columns)\n",
    "print(\"Daily Intensity:\",daily_intensities.columns)\n",
    "print(\"Weight Log:\",weight_log.columns)\n",
    "print(\"Daily Steps:\",daily_steps.columns)\n",
    "print(\"Heart Rate:\",heartrate.columns)"
   ]
  },
  {
   "cell_type": "code",
   "execution_count": 11,
   "id": "bae26d54",
   "metadata": {
    "scrolled": false
   },
   "outputs": [
    {
     "name": "stdout",
     "output_type": "stream",
     "text": [
      "33\n",
      "33\n",
      "33\n",
      "24\n",
      "33\n",
      "33\n",
      "8\n",
      "33\n",
      "14\n"
     ]
    }
   ],
   "source": [
    "# Unique Users in each dataset\n",
    "print(daily_activity.Id.nunique())\n",
    "print(hourly_steps.Id.nunique())\n",
    "print(hourly_calories.Id.nunique())\n",
    "print(daily_sleep.Id.nunique())\n",
    "print(daily_calories.Id.nunique())\n",
    "print(daily_intensities.Id.nunique())\n",
    "print(weight_log.Id.nunique())\n",
    "print(daily_steps.Id.nunique())\n",
    "print(heartrate.Id.nunique())"
   ]
  },
  {
   "cell_type": "code",
   "execution_count": 12,
   "id": "710a03b2",
   "metadata": {
    "scrolled": true
   },
   "outputs": [
    {
     "name": "stdout",
     "output_type": "stream",
     "text": [
      "Shape of Daily Activity: (940, 15)\n",
      "Shape of Hourly Steps: (22099, 3)\n",
      "Shape of Hourly Calories: (22099, 3)\n",
      "Shape of SleepDay: (413, 5)\n",
      "Shape of Daily Calories: (940, 3)\n",
      "Shape of Daily Intensity: (940, 10)\n",
      "Shape of Weight Logged: (67, 8)\n",
      "Shape of Daily Steps: (940, 3)\n",
      "Shape of Heart Rate: (2483658, 3)\n"
     ]
    }
   ],
   "source": [
    "# Shape of datasets\n",
    "print(\"Shape of Daily Activity:\",daily_activity.shape)\n",
    "print(\"Shape of Hourly Steps:\",hourly_steps.shape)\n",
    "print(\"Shape of Hourly Calories:\",hourly_calories.shape)\n",
    "print(\"Shape of SleepDay:\",daily_sleep.shape)\n",
    "print(\"Shape of Daily Calories:\",daily_calories.shape)  \n",
    "print(\"Shape of Daily Intensity:\",daily_intensities.shape)\n",
    "print(\"Shape of Weight Logged:\",weight_log.shape)\n",
    "print(\"Shape of Daily Steps:\",daily_steps.shape) \n",
    "print(\"Shape of Heart Rate:\",heartrate.shape)"
   ]
  },
  {
   "cell_type": "code",
   "execution_count": 13,
   "id": "675a1e90",
   "metadata": {
    "scrolled": false
   },
   "outputs": [
    {
     "name": "stdout",
     "output_type": "stream",
     "text": [
      "0\n",
      "0\n",
      "0\n",
      "0\n",
      "0\n",
      "0\n",
      "0\n",
      "65\n",
      "0\n"
     ]
    }
   ],
   "source": [
    "# Total null values in the dataset\n",
    "print(daily_activity.isnull().values.sum())\n",
    "print(daily_sleep.isnull().values.sum())\n",
    "print(daily_calories.isnull().values.sum())\n",
    "print(daily_intensities.isnull().values.sum())\n",
    "print(daily_steps.isnull().values.sum())\n",
    "print(hourly_steps.isnull().values.sum())\n",
    "print(hourly_calories.isnull().values.sum())\n",
    "print(weight_log.isnull().values.sum())\n",
    "print(heartrate.isnull().values.sum())"
   ]
  },
  {
   "cell_type": "code",
   "execution_count": 14,
   "id": "94daf33e",
   "metadata": {
    "scrolled": true
   },
   "outputs": [
    {
     "name": "stdout",
     "output_type": "stream",
     "text": [
      "0    False\n",
      "1    False\n",
      "2    False\n",
      "3    False\n",
      "4    False\n",
      "dtype: bool\n",
      "0    False\n",
      "1    False\n",
      "2    False\n",
      "3    False\n",
      "4    False\n",
      "dtype: bool\n",
      "0    False\n",
      "1    False\n",
      "2    False\n",
      "3    False\n",
      "4    False\n",
      "dtype: bool\n",
      "0    False\n",
      "1    False\n",
      "2    False\n",
      "3    False\n",
      "4    False\n",
      "dtype: bool\n",
      "0    False\n",
      "1    False\n",
      "2    False\n",
      "3    False\n",
      "4    False\n",
      "dtype: bool\n",
      "0    False\n",
      "1    False\n",
      "2    False\n",
      "3    False\n",
      "4    False\n",
      "dtype: bool\n",
      "0    False\n",
      "1    False\n",
      "2    False\n",
      "3    False\n",
      "4    False\n",
      "dtype: bool\n",
      "0    False\n",
      "1    False\n",
      "2    False\n",
      "3    False\n",
      "4    False\n",
      "dtype: bool\n",
      "0    False\n",
      "1    False\n",
      "2    False\n",
      "3    False\n",
      "4    False\n",
      "dtype: bool\n"
     ]
    }
   ],
   "source": [
    "# Let's check for duplicated data \n",
    "print(daily_activity.duplicated().head())\n",
    "print(daily_sleep.duplicated().head())\n",
    "print(daily_calories.duplicated().head())\n",
    "print(daily_intensities.duplicated().head())\n",
    "print(daily_steps.duplicated().head())\n",
    "print(hourly_steps.duplicated().head())\n",
    "print(hourly_calories.duplicated().head())\n",
    "print(weight_log.duplicated().head())\n",
    "print(heartrate.duplicated().head())"
   ]
  },
  {
   "cell_type": "markdown",
   "id": "ea9b4e6f",
   "metadata": {},
   "source": [
    "We find that daily_sleep, heartrate, weight_log have less values than n = 33. \n",
    "heartrate and weight_log will be of no use to us, so we should drop them.\n",
    "\n",
    "daily_calories, daily_intensities, daily_steps have their same data in daily_activity.\n",
    "So no need to consider them and we can drop them.\n",
    "\n",
    "hourly_calories and hourly_steps have same size so we can merge them.\n",
    "    \n",
    "We are remained with daily_activity, hourly_steps, hourly_calories, daily_sleep "
   ]
  },
  {
   "cell_type": "code",
   "execution_count": 15,
   "id": "5a61758b",
   "metadata": {
    "scrolled": false
   },
   "outputs": [
    {
     "data": {
      "text/plain": [
       "Id                            int64\n",
       "ActivityDate                 object\n",
       "TotalSteps                    int64\n",
       "TotalDistance               float64\n",
       "TrackerDistance             float64\n",
       "LoggedActivitiesDistance    float64\n",
       "VeryActiveDistance          float64\n",
       "ModeratelyActiveDistance    float64\n",
       "LightActiveDistance         float64\n",
       "SedentaryActiveDistance     float64\n",
       "VeryActiveMinutes             int64\n",
       "FairlyActiveMinutes           int64\n",
       "LightlyActiveMinutes          int64\n",
       "SedentaryMinutes              int64\n",
       "Calories                      int64\n",
       "dtype: object"
      ]
     },
     "execution_count": 15,
     "metadata": {},
     "output_type": "execute_result"
    }
   ],
   "source": [
    "# Checking their datatypes\n",
    "daily_activity.dtypes"
   ]
  },
  {
   "cell_type": "code",
   "execution_count": 16,
   "id": "6b7ed6d0",
   "metadata": {
    "scrolled": false
   },
   "outputs": [
    {
     "data": {
      "text/plain": [
       "Id                     int64\n",
       "SleepDay              object\n",
       "TotalSleepRecords      int64\n",
       "TotalMinutesAsleep     int64\n",
       "TotalTimeInBed         int64\n",
       "dtype: object"
      ]
     },
     "execution_count": 16,
     "metadata": {},
     "output_type": "execute_result"
    }
   ],
   "source": [
    "daily_sleep.dtypes"
   ]
  },
  {
   "cell_type": "code",
   "execution_count": 17,
   "id": "799d8e57",
   "metadata": {
    "scrolled": false
   },
   "outputs": [
    {
     "data": {
      "text/plain": [
       "Id               int64\n",
       "ActivityHour    object\n",
       "Calories         int64\n",
       "dtype: object"
      ]
     },
     "execution_count": 17,
     "metadata": {},
     "output_type": "execute_result"
    }
   ],
   "source": [
    "hourly_calories.dtypes"
   ]
  },
  {
   "cell_type": "code",
   "execution_count": 18,
   "id": "f99d1903",
   "metadata": {
    "scrolled": false
   },
   "outputs": [
    {
     "data": {
      "text/plain": [
       "Id               int64\n",
       "ActivityHour    object\n",
       "StepTotal        int64\n",
       "dtype: object"
      ]
     },
     "execution_count": 18,
     "metadata": {},
     "output_type": "execute_result"
    }
   ],
   "source": [
    "hourly_steps.dtypes"
   ]
  },
  {
   "cell_type": "code",
   "execution_count": 19,
   "id": "a83beb64",
   "metadata": {
    "scrolled": false
   },
   "outputs": [],
   "source": [
    "# It is observed that ActivityDate, SleepDay, ActivityHour are in object datatype, \n",
    "# to operate them we convert them in datetime datatype.\n",
    "\n",
    "daily_activity['ActivityDate'] = pd.to_datetime(daily_activity['ActivityDate'])\n",
    "hourly_calories['ActivityHour'] = pd.to_datetime(hourly_calories['ActivityHour'])\n",
    "hourly_steps['ActivityHour'] = pd.to_datetime(hourly_steps['ActivityHour'])\n",
    "daily_sleep['SleepDay'] = pd.to_datetime(daily_sleep['SleepDay'])"
   ]
  },
  {
   "cell_type": "code",
   "execution_count": 20,
   "id": "35af45de",
   "metadata": {
    "scrolled": false
   },
   "outputs": [],
   "source": [
    "# hourly_calories and hourly_steps have 2 same colums so we can merge them.\n",
    "\n",
    "hourly_activity = pd.merge(hourly_calories, hourly_steps, on= (\"Id\", \"ActivityHour\"), how = \"inner\")"
   ]
  },
  {
   "cell_type": "code",
   "execution_count": 21,
   "id": "0183e45b",
   "metadata": {
    "scrolled": false
   },
   "outputs": [
    {
     "data": {
      "text/html": [
       "<div>\n",
       "<style scoped>\n",
       "    .dataframe tbody tr th:only-of-type {\n",
       "        vertical-align: middle;\n",
       "    }\n",
       "\n",
       "    .dataframe tbody tr th {\n",
       "        vertical-align: top;\n",
       "    }\n",
       "\n",
       "    .dataframe thead th {\n",
       "        text-align: right;\n",
       "    }\n",
       "</style>\n",
       "<table border=\"1\" class=\"dataframe\">\n",
       "  <thead>\n",
       "    <tr style=\"text-align: right;\">\n",
       "      <th></th>\n",
       "      <th>Id</th>\n",
       "      <th>ActivityHour</th>\n",
       "      <th>Calories</th>\n",
       "      <th>StepTotal</th>\n",
       "    </tr>\n",
       "  </thead>\n",
       "  <tbody>\n",
       "    <tr>\n",
       "      <th>0</th>\n",
       "      <td>1503960366</td>\n",
       "      <td>2016-04-12 00:00:00</td>\n",
       "      <td>81</td>\n",
       "      <td>373</td>\n",
       "    </tr>\n",
       "    <tr>\n",
       "      <th>1</th>\n",
       "      <td>1503960366</td>\n",
       "      <td>2016-04-12 01:00:00</td>\n",
       "      <td>61</td>\n",
       "      <td>160</td>\n",
       "    </tr>\n",
       "    <tr>\n",
       "      <th>2</th>\n",
       "      <td>1503960366</td>\n",
       "      <td>2016-04-12 02:00:00</td>\n",
       "      <td>59</td>\n",
       "      <td>151</td>\n",
       "    </tr>\n",
       "    <tr>\n",
       "      <th>3</th>\n",
       "      <td>1503960366</td>\n",
       "      <td>2016-04-12 03:00:00</td>\n",
       "      <td>47</td>\n",
       "      <td>0</td>\n",
       "    </tr>\n",
       "    <tr>\n",
       "      <th>4</th>\n",
       "      <td>1503960366</td>\n",
       "      <td>2016-04-12 04:00:00</td>\n",
       "      <td>48</td>\n",
       "      <td>0</td>\n",
       "    </tr>\n",
       "  </tbody>\n",
       "</table>\n",
       "</div>"
      ],
      "text/plain": [
       "           Id        ActivityHour  Calories  StepTotal\n",
       "0  1503960366 2016-04-12 00:00:00        81        373\n",
       "1  1503960366 2016-04-12 01:00:00        61        160\n",
       "2  1503960366 2016-04-12 02:00:00        59        151\n",
       "3  1503960366 2016-04-12 03:00:00        47          0\n",
       "4  1503960366 2016-04-12 04:00:00        48          0"
      ]
     },
     "execution_count": 21,
     "metadata": {},
     "output_type": "execute_result"
    }
   ],
   "source": [
    "hourly_activity.head()"
   ]
  },
  {
   "cell_type": "code",
   "execution_count": 22,
   "id": "0c13050e",
   "metadata": {
    "scrolled": false
   },
   "outputs": [],
   "source": [
    "# We create 'Hour' and 'ActivityDate' column and drop 'ActivityHour' column\n",
    "\n",
    "hourly_activity['Hour'] = hourly_activity['ActivityHour'].dt.hour"
   ]
  },
  {
   "cell_type": "code",
   "execution_count": 23,
   "id": "fb0bed59",
   "metadata": {
    "scrolled": false
   },
   "outputs": [],
   "source": [
    "hourly_activity['ActivityDate'] = hourly_activity['ActivityHour'].dt.date"
   ]
  },
  {
   "cell_type": "code",
   "execution_count": 24,
   "id": "9a756d8d",
   "metadata": {
    "scrolled": false
   },
   "outputs": [],
   "source": [
    "hourly_activity = hourly_activity.drop(\"ActivityHour\", axis = 1)"
   ]
  },
  {
   "cell_type": "code",
   "execution_count": 25,
   "id": "d7181e5e",
   "metadata": {
    "scrolled": false
   },
   "outputs": [],
   "source": [
    "hourly_activity['ActivityDate'] = pd.to_datetime(hourly_activity['ActivityDate'])"
   ]
  },
  {
   "cell_type": "code",
   "execution_count": 26,
   "id": "ce5d6a94",
   "metadata": {
    "scrolled": false
   },
   "outputs": [
    {
     "data": {
      "text/html": [
       "<div>\n",
       "<style scoped>\n",
       "    .dataframe tbody tr th:only-of-type {\n",
       "        vertical-align: middle;\n",
       "    }\n",
       "\n",
       "    .dataframe tbody tr th {\n",
       "        vertical-align: top;\n",
       "    }\n",
       "\n",
       "    .dataframe thead th {\n",
       "        text-align: right;\n",
       "    }\n",
       "</style>\n",
       "<table border=\"1\" class=\"dataframe\">\n",
       "  <thead>\n",
       "    <tr style=\"text-align: right;\">\n",
       "      <th></th>\n",
       "      <th>Id</th>\n",
       "      <th>Calories</th>\n",
       "      <th>StepTotal</th>\n",
       "      <th>Hour</th>\n",
       "      <th>ActivityDate</th>\n",
       "    </tr>\n",
       "  </thead>\n",
       "  <tbody>\n",
       "    <tr>\n",
       "      <th>0</th>\n",
       "      <td>1503960366</td>\n",
       "      <td>81</td>\n",
       "      <td>373</td>\n",
       "      <td>0</td>\n",
       "      <td>2016-04-12</td>\n",
       "    </tr>\n",
       "    <tr>\n",
       "      <th>1</th>\n",
       "      <td>1503960366</td>\n",
       "      <td>61</td>\n",
       "      <td>160</td>\n",
       "      <td>1</td>\n",
       "      <td>2016-04-12</td>\n",
       "    </tr>\n",
       "    <tr>\n",
       "      <th>2</th>\n",
       "      <td>1503960366</td>\n",
       "      <td>59</td>\n",
       "      <td>151</td>\n",
       "      <td>2</td>\n",
       "      <td>2016-04-12</td>\n",
       "    </tr>\n",
       "    <tr>\n",
       "      <th>3</th>\n",
       "      <td>1503960366</td>\n",
       "      <td>47</td>\n",
       "      <td>0</td>\n",
       "      <td>3</td>\n",
       "      <td>2016-04-12</td>\n",
       "    </tr>\n",
       "    <tr>\n",
       "      <th>4</th>\n",
       "      <td>1503960366</td>\n",
       "      <td>48</td>\n",
       "      <td>0</td>\n",
       "      <td>4</td>\n",
       "      <td>2016-04-12</td>\n",
       "    </tr>\n",
       "  </tbody>\n",
       "</table>\n",
       "</div>"
      ],
      "text/plain": [
       "           Id  Calories  StepTotal  Hour ActivityDate\n",
       "0  1503960366        81        373     0   2016-04-12\n",
       "1  1503960366        61        160     1   2016-04-12\n",
       "2  1503960366        59        151     2   2016-04-12\n",
       "3  1503960366        47          0     3   2016-04-12\n",
       "4  1503960366        48          0     4   2016-04-12"
      ]
     },
     "execution_count": 26,
     "metadata": {},
     "output_type": "execute_result"
    }
   ],
   "source": [
    "hourly_activity.head()"
   ]
  },
  {
   "cell_type": "code",
   "execution_count": 27,
   "id": "18463314",
   "metadata": {
    "scrolled": false
   },
   "outputs": [],
   "source": [
    "# Add 'WeekDay' to every dataset\n",
    "\n",
    "hourly_activity['WeekDay'] = hourly_activity['ActivityDate'].dt.day_name()\n",
    "daily_activity['WeekDay'] = daily_activity['ActivityDate'].dt.day_name()\n",
    "daily_sleep['WeekDay'] = daily_sleep['SleepDay'].dt.day_name()"
   ]
  },
  {
   "cell_type": "code",
   "execution_count": 28,
   "id": "d24e978f",
   "metadata": {
    "scrolled": false
   },
   "outputs": [],
   "source": [
    "# Change 'SleepDay' to 'ActivityDate' so that we can merge hourly_activity and daily_sleep\n",
    "\n",
    "daily_sleep= daily_sleep.rename(columns = {\"SleepDay\":\"ActivityDate\"})"
   ]
  },
  {
   "cell_type": "code",
   "execution_count": 29,
   "id": "257e5ea8",
   "metadata": {
    "scrolled": false
   },
   "outputs": [],
   "source": [
    "# Merge hourly_activity and daily_sleep\n",
    "\n",
    "merged = pd.merge(hourly_activity, daily_sleep, on = (\"Id\", 'ActivityDate', 'WeekDay'), how = 'inner')"
   ]
  },
  {
   "cell_type": "code",
   "execution_count": 30,
   "id": "8b4dc30e",
   "metadata": {
    "scrolled": false
   },
   "outputs": [
    {
     "data": {
      "text/html": [
       "<div>\n",
       "<style scoped>\n",
       "    .dataframe tbody tr th:only-of-type {\n",
       "        vertical-align: middle;\n",
       "    }\n",
       "\n",
       "    .dataframe tbody tr th {\n",
       "        vertical-align: top;\n",
       "    }\n",
       "\n",
       "    .dataframe thead th {\n",
       "        text-align: right;\n",
       "    }\n",
       "</style>\n",
       "<table border=\"1\" class=\"dataframe\">\n",
       "  <thead>\n",
       "    <tr style=\"text-align: right;\">\n",
       "      <th></th>\n",
       "      <th>Id</th>\n",
       "      <th>Calories</th>\n",
       "      <th>StepTotal</th>\n",
       "      <th>Hour</th>\n",
       "      <th>ActivityDate</th>\n",
       "      <th>WeekDay</th>\n",
       "      <th>TotalSleepRecords</th>\n",
       "      <th>TotalMinutesAsleep</th>\n",
       "      <th>TotalTimeInBed</th>\n",
       "    </tr>\n",
       "  </thead>\n",
       "  <tbody>\n",
       "    <tr>\n",
       "      <th>0</th>\n",
       "      <td>1503960366</td>\n",
       "      <td>81</td>\n",
       "      <td>373</td>\n",
       "      <td>0</td>\n",
       "      <td>2016-04-12</td>\n",
       "      <td>Tuesday</td>\n",
       "      <td>1</td>\n",
       "      <td>327</td>\n",
       "      <td>346</td>\n",
       "    </tr>\n",
       "    <tr>\n",
       "      <th>1</th>\n",
       "      <td>1503960366</td>\n",
       "      <td>61</td>\n",
       "      <td>160</td>\n",
       "      <td>1</td>\n",
       "      <td>2016-04-12</td>\n",
       "      <td>Tuesday</td>\n",
       "      <td>1</td>\n",
       "      <td>327</td>\n",
       "      <td>346</td>\n",
       "    </tr>\n",
       "    <tr>\n",
       "      <th>2</th>\n",
       "      <td>1503960366</td>\n",
       "      <td>59</td>\n",
       "      <td>151</td>\n",
       "      <td>2</td>\n",
       "      <td>2016-04-12</td>\n",
       "      <td>Tuesday</td>\n",
       "      <td>1</td>\n",
       "      <td>327</td>\n",
       "      <td>346</td>\n",
       "    </tr>\n",
       "    <tr>\n",
       "      <th>3</th>\n",
       "      <td>1503960366</td>\n",
       "      <td>47</td>\n",
       "      <td>0</td>\n",
       "      <td>3</td>\n",
       "      <td>2016-04-12</td>\n",
       "      <td>Tuesday</td>\n",
       "      <td>1</td>\n",
       "      <td>327</td>\n",
       "      <td>346</td>\n",
       "    </tr>\n",
       "    <tr>\n",
       "      <th>4</th>\n",
       "      <td>1503960366</td>\n",
       "      <td>48</td>\n",
       "      <td>0</td>\n",
       "      <td>4</td>\n",
       "      <td>2016-04-12</td>\n",
       "      <td>Tuesday</td>\n",
       "      <td>1</td>\n",
       "      <td>327</td>\n",
       "      <td>346</td>\n",
       "    </tr>\n",
       "  </tbody>\n",
       "</table>\n",
       "</div>"
      ],
      "text/plain": [
       "           Id  Calories  StepTotal  Hour ActivityDate  WeekDay  \\\n",
       "0  1503960366        81        373     0   2016-04-12  Tuesday   \n",
       "1  1503960366        61        160     1   2016-04-12  Tuesday   \n",
       "2  1503960366        59        151     2   2016-04-12  Tuesday   \n",
       "3  1503960366        47          0     3   2016-04-12  Tuesday   \n",
       "4  1503960366        48          0     4   2016-04-12  Tuesday   \n",
       "\n",
       "   TotalSleepRecords  TotalMinutesAsleep  TotalTimeInBed  \n",
       "0                  1                 327             346  \n",
       "1                  1                 327             346  \n",
       "2                  1                 327             346  \n",
       "3                  1                 327             346  \n",
       "4                  1                 327             346  "
      ]
     },
     "execution_count": 30,
     "metadata": {},
     "output_type": "execute_result"
    }
   ],
   "source": [
    "merged.head()"
   ]
  },
  {
   "cell_type": "code",
   "execution_count": 31,
   "id": "0060cb0e",
   "metadata": {
    "scrolled": false
   },
   "outputs": [],
   "source": [
    "# Rearrange columns for better convenience\n",
    "# Add new columns 'TotalActiveMinutes', 'TotalMinutes', 'TotalActiveHours' to daily_activity \n",
    "\n",
    "new_cols = [\"Id\", \"ActivityDate\", \"WeekDay\", \"Calories\", \"TotalSteps\", \n",
    "            \"TotalDistance\",\"TotalActiveMinutes\",\"TotalMinutes\",\n",
    "            \"TotalActiveHours\", \"VeryActiveDistance\", \n",
    "            \"ModeratelyActiveDistance\", \"LightActiveDistance\", \n",
    "            \"SedentaryActiveDistance\", \"VeryActiveMinutes\", \n",
    "            \"FairlyActiveMinutes\", \"LightlyActiveMinutes\", \n",
    "            \"SedentaryMinutes\",]\n",
    "\n",
    "daily_activity = daily_activity.reindex(columns=new_cols)"
   ]
  },
  {
   "cell_type": "code",
   "execution_count": 32,
   "id": "2be8f209",
   "metadata": {
    "scrolled": false
   },
   "outputs": [],
   "source": [
    "daily_activity[\"TotalActiveMinutes\"] = daily_activity[\"VeryActiveMinutes\"] + daily_activity[\"FairlyActiveMinutes\"] + daily_activity[\"LightlyActiveMinutes\"]\n",
    "daily_activity[\"TotalMinutes\"] = daily_activity[\"TotalActiveMinutes\"] + daily_activity[\"SedentaryMinutes\"]\n",
    "daily_activity[\"TotalActiveHours\"] = round(daily_activity[\"TotalActiveMinutes\"] / 60)"
   ]
  },
  {
   "cell_type": "code",
   "execution_count": 33,
   "id": "d7d6ee29",
   "metadata": {
    "scrolled": false
   },
   "outputs": [
    {
     "data": {
      "text/html": [
       "<div>\n",
       "<style scoped>\n",
       "    .dataframe tbody tr th:only-of-type {\n",
       "        vertical-align: middle;\n",
       "    }\n",
       "\n",
       "    .dataframe tbody tr th {\n",
       "        vertical-align: top;\n",
       "    }\n",
       "\n",
       "    .dataframe thead th {\n",
       "        text-align: right;\n",
       "    }\n",
       "</style>\n",
       "<table border=\"1\" class=\"dataframe\">\n",
       "  <thead>\n",
       "    <tr style=\"text-align: right;\">\n",
       "      <th></th>\n",
       "      <th>Id</th>\n",
       "      <th>ActivityDate</th>\n",
       "      <th>WeekDay</th>\n",
       "      <th>Calories</th>\n",
       "      <th>TotalSteps</th>\n",
       "      <th>TotalDistance</th>\n",
       "      <th>TotalActiveMinutes</th>\n",
       "      <th>TotalMinutes</th>\n",
       "      <th>TotalActiveHours</th>\n",
       "      <th>VeryActiveDistance</th>\n",
       "      <th>ModeratelyActiveDistance</th>\n",
       "      <th>LightActiveDistance</th>\n",
       "      <th>SedentaryActiveDistance</th>\n",
       "      <th>VeryActiveMinutes</th>\n",
       "      <th>FairlyActiveMinutes</th>\n",
       "      <th>LightlyActiveMinutes</th>\n",
       "      <th>SedentaryMinutes</th>\n",
       "    </tr>\n",
       "  </thead>\n",
       "  <tbody>\n",
       "    <tr>\n",
       "      <th>0</th>\n",
       "      <td>1503960366</td>\n",
       "      <td>2016-04-12</td>\n",
       "      <td>Tuesday</td>\n",
       "      <td>1985</td>\n",
       "      <td>13162</td>\n",
       "      <td>8.50</td>\n",
       "      <td>366</td>\n",
       "      <td>1094</td>\n",
       "      <td>6.0</td>\n",
       "      <td>1.88</td>\n",
       "      <td>0.55</td>\n",
       "      <td>6.06</td>\n",
       "      <td>0.0</td>\n",
       "      <td>25</td>\n",
       "      <td>13</td>\n",
       "      <td>328</td>\n",
       "      <td>728</td>\n",
       "    </tr>\n",
       "    <tr>\n",
       "      <th>1</th>\n",
       "      <td>1503960366</td>\n",
       "      <td>2016-04-13</td>\n",
       "      <td>Wednesday</td>\n",
       "      <td>1797</td>\n",
       "      <td>10735</td>\n",
       "      <td>6.97</td>\n",
       "      <td>257</td>\n",
       "      <td>1033</td>\n",
       "      <td>4.0</td>\n",
       "      <td>1.57</td>\n",
       "      <td>0.69</td>\n",
       "      <td>4.71</td>\n",
       "      <td>0.0</td>\n",
       "      <td>21</td>\n",
       "      <td>19</td>\n",
       "      <td>217</td>\n",
       "      <td>776</td>\n",
       "    </tr>\n",
       "    <tr>\n",
       "      <th>2</th>\n",
       "      <td>1503960366</td>\n",
       "      <td>2016-04-14</td>\n",
       "      <td>Thursday</td>\n",
       "      <td>1776</td>\n",
       "      <td>10460</td>\n",
       "      <td>6.74</td>\n",
       "      <td>222</td>\n",
       "      <td>1440</td>\n",
       "      <td>4.0</td>\n",
       "      <td>2.44</td>\n",
       "      <td>0.40</td>\n",
       "      <td>3.91</td>\n",
       "      <td>0.0</td>\n",
       "      <td>30</td>\n",
       "      <td>11</td>\n",
       "      <td>181</td>\n",
       "      <td>1218</td>\n",
       "    </tr>\n",
       "    <tr>\n",
       "      <th>3</th>\n",
       "      <td>1503960366</td>\n",
       "      <td>2016-04-15</td>\n",
       "      <td>Friday</td>\n",
       "      <td>1745</td>\n",
       "      <td>9762</td>\n",
       "      <td>6.28</td>\n",
       "      <td>272</td>\n",
       "      <td>998</td>\n",
       "      <td>5.0</td>\n",
       "      <td>2.14</td>\n",
       "      <td>1.26</td>\n",
       "      <td>2.83</td>\n",
       "      <td>0.0</td>\n",
       "      <td>29</td>\n",
       "      <td>34</td>\n",
       "      <td>209</td>\n",
       "      <td>726</td>\n",
       "    </tr>\n",
       "    <tr>\n",
       "      <th>4</th>\n",
       "      <td>1503960366</td>\n",
       "      <td>2016-04-16</td>\n",
       "      <td>Saturday</td>\n",
       "      <td>1863</td>\n",
       "      <td>12669</td>\n",
       "      <td>8.16</td>\n",
       "      <td>267</td>\n",
       "      <td>1040</td>\n",
       "      <td>4.0</td>\n",
       "      <td>2.71</td>\n",
       "      <td>0.41</td>\n",
       "      <td>5.04</td>\n",
       "      <td>0.0</td>\n",
       "      <td>36</td>\n",
       "      <td>10</td>\n",
       "      <td>221</td>\n",
       "      <td>773</td>\n",
       "    </tr>\n",
       "  </tbody>\n",
       "</table>\n",
       "</div>"
      ],
      "text/plain": [
       "           Id ActivityDate    WeekDay  Calories  TotalSteps  TotalDistance  \\\n",
       "0  1503960366   2016-04-12    Tuesday      1985       13162           8.50   \n",
       "1  1503960366   2016-04-13  Wednesday      1797       10735           6.97   \n",
       "2  1503960366   2016-04-14   Thursday      1776       10460           6.74   \n",
       "3  1503960366   2016-04-15     Friday      1745        9762           6.28   \n",
       "4  1503960366   2016-04-16   Saturday      1863       12669           8.16   \n",
       "\n",
       "   TotalActiveMinutes  TotalMinutes  TotalActiveHours  VeryActiveDistance  \\\n",
       "0                 366          1094               6.0                1.88   \n",
       "1                 257          1033               4.0                1.57   \n",
       "2                 222          1440               4.0                2.44   \n",
       "3                 272           998               5.0                2.14   \n",
       "4                 267          1040               4.0                2.71   \n",
       "\n",
       "   ModeratelyActiveDistance  LightActiveDistance  SedentaryActiveDistance  \\\n",
       "0                      0.55                 6.06                      0.0   \n",
       "1                      0.69                 4.71                      0.0   \n",
       "2                      0.40                 3.91                      0.0   \n",
       "3                      1.26                 2.83                      0.0   \n",
       "4                      0.41                 5.04                      0.0   \n",
       "\n",
       "   VeryActiveMinutes  FairlyActiveMinutes  LightlyActiveMinutes  \\\n",
       "0                 25                   13                   328   \n",
       "1                 21                   19                   217   \n",
       "2                 30                   11                   181   \n",
       "3                 29                   34                   209   \n",
       "4                 36                   10                   221   \n",
       "\n",
       "   SedentaryMinutes  \n",
       "0               728  \n",
       "1               776  \n",
       "2              1218  \n",
       "3               726  \n",
       "4               773  "
      ]
     },
     "execution_count": 33,
     "metadata": {},
     "output_type": "execute_result"
    }
   ],
   "source": [
    "daily_activity.head()"
   ]
  },
  {
   "cell_type": "markdown",
   "id": "b106005b",
   "metadata": {},
   "source": [
    "# Analyse"
   ]
  },
  {
   "cell_type": "code",
   "execution_count": 42,
   "id": "1633993e",
   "metadata": {
    "scrolled": false
   },
   "outputs": [
    {
     "data": {
      "text/html": [
       "<div>\n",
       "<style scoped>\n",
       "    .dataframe tbody tr th:only-of-type {\n",
       "        vertical-align: middle;\n",
       "    }\n",
       "\n",
       "    .dataframe tbody tr th {\n",
       "        vertical-align: top;\n",
       "    }\n",
       "\n",
       "    .dataframe thead th {\n",
       "        text-align: right;\n",
       "    }\n",
       "</style>\n",
       "<table border=\"1\" class=\"dataframe\">\n",
       "  <thead>\n",
       "    <tr style=\"text-align: right;\">\n",
       "      <th></th>\n",
       "      <th>Id</th>\n",
       "      <th>Calories</th>\n",
       "      <th>TotalSteps</th>\n",
       "      <th>TotalDistance</th>\n",
       "      <th>TotalActiveMinutes</th>\n",
       "      <th>TotalMinutes</th>\n",
       "      <th>TotalActiveHours</th>\n",
       "      <th>VeryActiveDistance</th>\n",
       "      <th>ModeratelyActiveDistance</th>\n",
       "      <th>LightActiveDistance</th>\n",
       "      <th>SedentaryActiveDistance</th>\n",
       "      <th>VeryActiveMinutes</th>\n",
       "      <th>FairlyActiveMinutes</th>\n",
       "      <th>LightlyActiveMinutes</th>\n",
       "      <th>SedentaryMinutes</th>\n",
       "    </tr>\n",
       "  </thead>\n",
       "  <tbody>\n",
       "    <tr>\n",
       "      <th>count</th>\n",
       "      <td>9.400000e+02</td>\n",
       "      <td>940.000000</td>\n",
       "      <td>940.000000</td>\n",
       "      <td>940.000000</td>\n",
       "      <td>940.000000</td>\n",
       "      <td>940.000000</td>\n",
       "      <td>940.000000</td>\n",
       "      <td>940.000000</td>\n",
       "      <td>940.000000</td>\n",
       "      <td>940.000000</td>\n",
       "      <td>940.000000</td>\n",
       "      <td>940.000000</td>\n",
       "      <td>940.000000</td>\n",
       "      <td>940.000000</td>\n",
       "      <td>940.000000</td>\n",
       "    </tr>\n",
       "    <tr>\n",
       "      <th>mean</th>\n",
       "      <td>4.855407e+09</td>\n",
       "      <td>2303.609574</td>\n",
       "      <td>7637.910638</td>\n",
       "      <td>5.489702</td>\n",
       "      <td>227.542553</td>\n",
       "      <td>1218.753191</td>\n",
       "      <td>3.775532</td>\n",
       "      <td>1.502681</td>\n",
       "      <td>0.567543</td>\n",
       "      <td>3.340819</td>\n",
       "      <td>0.001606</td>\n",
       "      <td>21.164894</td>\n",
       "      <td>13.564894</td>\n",
       "      <td>192.812766</td>\n",
       "      <td>991.210638</td>\n",
       "    </tr>\n",
       "    <tr>\n",
       "      <th>std</th>\n",
       "      <td>2.424805e+09</td>\n",
       "      <td>718.166862</td>\n",
       "      <td>5087.150742</td>\n",
       "      <td>3.924606</td>\n",
       "      <td>121.776307</td>\n",
       "      <td>265.931767</td>\n",
       "      <td>2.057646</td>\n",
       "      <td>2.658941</td>\n",
       "      <td>0.883580</td>\n",
       "      <td>2.040655</td>\n",
       "      <td>0.007346</td>\n",
       "      <td>32.844803</td>\n",
       "      <td>19.987404</td>\n",
       "      <td>109.174700</td>\n",
       "      <td>301.267437</td>\n",
       "    </tr>\n",
       "    <tr>\n",
       "      <th>min</th>\n",
       "      <td>1.503960e+09</td>\n",
       "      <td>0.000000</td>\n",
       "      <td>0.000000</td>\n",
       "      <td>0.000000</td>\n",
       "      <td>0.000000</td>\n",
       "      <td>2.000000</td>\n",
       "      <td>0.000000</td>\n",
       "      <td>0.000000</td>\n",
       "      <td>0.000000</td>\n",
       "      <td>0.000000</td>\n",
       "      <td>0.000000</td>\n",
       "      <td>0.000000</td>\n",
       "      <td>0.000000</td>\n",
       "      <td>0.000000</td>\n",
       "      <td>0.000000</td>\n",
       "    </tr>\n",
       "    <tr>\n",
       "      <th>25%</th>\n",
       "      <td>2.320127e+09</td>\n",
       "      <td>1828.500000</td>\n",
       "      <td>3789.750000</td>\n",
       "      <td>2.620000</td>\n",
       "      <td>146.750000</td>\n",
       "      <td>989.750000</td>\n",
       "      <td>2.000000</td>\n",
       "      <td>0.000000</td>\n",
       "      <td>0.000000</td>\n",
       "      <td>1.945000</td>\n",
       "      <td>0.000000</td>\n",
       "      <td>0.000000</td>\n",
       "      <td>0.000000</td>\n",
       "      <td>127.000000</td>\n",
       "      <td>729.750000</td>\n",
       "    </tr>\n",
       "    <tr>\n",
       "      <th>50%</th>\n",
       "      <td>4.445115e+09</td>\n",
       "      <td>2134.000000</td>\n",
       "      <td>7405.500000</td>\n",
       "      <td>5.245000</td>\n",
       "      <td>247.000000</td>\n",
       "      <td>1440.000000</td>\n",
       "      <td>4.000000</td>\n",
       "      <td>0.210000</td>\n",
       "      <td>0.240000</td>\n",
       "      <td>3.365000</td>\n",
       "      <td>0.000000</td>\n",
       "      <td>4.000000</td>\n",
       "      <td>6.000000</td>\n",
       "      <td>199.000000</td>\n",
       "      <td>1057.500000</td>\n",
       "    </tr>\n",
       "    <tr>\n",
       "      <th>75%</th>\n",
       "      <td>6.962181e+09</td>\n",
       "      <td>2793.250000</td>\n",
       "      <td>10727.000000</td>\n",
       "      <td>7.712500</td>\n",
       "      <td>317.250000</td>\n",
       "      <td>1440.000000</td>\n",
       "      <td>5.000000</td>\n",
       "      <td>2.052500</td>\n",
       "      <td>0.800000</td>\n",
       "      <td>4.782500</td>\n",
       "      <td>0.000000</td>\n",
       "      <td>32.000000</td>\n",
       "      <td>19.000000</td>\n",
       "      <td>264.000000</td>\n",
       "      <td>1229.500000</td>\n",
       "    </tr>\n",
       "    <tr>\n",
       "      <th>max</th>\n",
       "      <td>8.877689e+09</td>\n",
       "      <td>4900.000000</td>\n",
       "      <td>36019.000000</td>\n",
       "      <td>28.030001</td>\n",
       "      <td>552.000000</td>\n",
       "      <td>1440.000000</td>\n",
       "      <td>9.000000</td>\n",
       "      <td>21.920000</td>\n",
       "      <td>6.480000</td>\n",
       "      <td>10.710000</td>\n",
       "      <td>0.110000</td>\n",
       "      <td>210.000000</td>\n",
       "      <td>143.000000</td>\n",
       "      <td>518.000000</td>\n",
       "      <td>1440.000000</td>\n",
       "    </tr>\n",
       "  </tbody>\n",
       "</table>\n",
       "</div>"
      ],
      "text/plain": [
       "                 Id     Calories    TotalSteps  TotalDistance  \\\n",
       "count  9.400000e+02   940.000000    940.000000     940.000000   \n",
       "mean   4.855407e+09  2303.609574   7637.910638       5.489702   \n",
       "std    2.424805e+09   718.166862   5087.150742       3.924606   \n",
       "min    1.503960e+09     0.000000      0.000000       0.000000   \n",
       "25%    2.320127e+09  1828.500000   3789.750000       2.620000   \n",
       "50%    4.445115e+09  2134.000000   7405.500000       5.245000   \n",
       "75%    6.962181e+09  2793.250000  10727.000000       7.712500   \n",
       "max    8.877689e+09  4900.000000  36019.000000      28.030001   \n",
       "\n",
       "       TotalActiveMinutes  TotalMinutes  TotalActiveHours  VeryActiveDistance  \\\n",
       "count          940.000000    940.000000        940.000000          940.000000   \n",
       "mean           227.542553   1218.753191          3.775532            1.502681   \n",
       "std            121.776307    265.931767          2.057646            2.658941   \n",
       "min              0.000000      2.000000          0.000000            0.000000   \n",
       "25%            146.750000    989.750000          2.000000            0.000000   \n",
       "50%            247.000000   1440.000000          4.000000            0.210000   \n",
       "75%            317.250000   1440.000000          5.000000            2.052500   \n",
       "max            552.000000   1440.000000          9.000000           21.920000   \n",
       "\n",
       "       ModeratelyActiveDistance  LightActiveDistance  SedentaryActiveDistance  \\\n",
       "count                940.000000           940.000000               940.000000   \n",
       "mean                   0.567543             3.340819                 0.001606   \n",
       "std                    0.883580             2.040655                 0.007346   \n",
       "min                    0.000000             0.000000                 0.000000   \n",
       "25%                    0.000000             1.945000                 0.000000   \n",
       "50%                    0.240000             3.365000                 0.000000   \n",
       "75%                    0.800000             4.782500                 0.000000   \n",
       "max                    6.480000            10.710000                 0.110000   \n",
       "\n",
       "       VeryActiveMinutes  FairlyActiveMinutes  LightlyActiveMinutes  \\\n",
       "count         940.000000           940.000000            940.000000   \n",
       "mean           21.164894            13.564894            192.812766   \n",
       "std            32.844803            19.987404            109.174700   \n",
       "min             0.000000             0.000000              0.000000   \n",
       "25%             0.000000             0.000000            127.000000   \n",
       "50%             4.000000             6.000000            199.000000   \n",
       "75%            32.000000            19.000000            264.000000   \n",
       "max           210.000000           143.000000            518.000000   \n",
       "\n",
       "       SedentaryMinutes  \n",
       "count        940.000000  \n",
       "mean         991.210638  \n",
       "std          301.267437  \n",
       "min            0.000000  \n",
       "25%          729.750000  \n",
       "50%         1057.500000  \n",
       "75%         1229.500000  \n",
       "max         1440.000000  "
      ]
     },
     "execution_count": 42,
     "metadata": {},
     "output_type": "execute_result"
    }
   ],
   "source": [
    "daily_activity.describe()"
   ]
  },
  {
   "cell_type": "code",
   "execution_count": 43,
   "id": "3497f77f",
   "metadata": {
    "scrolled": true
   },
   "outputs": [
    {
     "data": {
      "text/html": [
       "<div>\n",
       "<style scoped>\n",
       "    .dataframe tbody tr th:only-of-type {\n",
       "        vertical-align: middle;\n",
       "    }\n",
       "\n",
       "    .dataframe tbody tr th {\n",
       "        vertical-align: top;\n",
       "    }\n",
       "\n",
       "    .dataframe thead th {\n",
       "        text-align: right;\n",
       "    }\n",
       "</style>\n",
       "<table border=\"1\" class=\"dataframe\">\n",
       "  <thead>\n",
       "    <tr style=\"text-align: right;\">\n",
       "      <th></th>\n",
       "      <th>Id</th>\n",
       "      <th>Calories</th>\n",
       "      <th>StepTotal</th>\n",
       "      <th>Hour</th>\n",
       "    </tr>\n",
       "  </thead>\n",
       "  <tbody>\n",
       "    <tr>\n",
       "      <th>count</th>\n",
       "      <td>2.209900e+04</td>\n",
       "      <td>22099.000000</td>\n",
       "      <td>22099.000000</td>\n",
       "      <td>22099.000000</td>\n",
       "    </tr>\n",
       "    <tr>\n",
       "      <th>mean</th>\n",
       "      <td>4.848235e+09</td>\n",
       "      <td>97.386760</td>\n",
       "      <td>320.166342</td>\n",
       "      <td>11.415765</td>\n",
       "    </tr>\n",
       "    <tr>\n",
       "      <th>std</th>\n",
       "      <td>2.422500e+09</td>\n",
       "      <td>60.702622</td>\n",
       "      <td>690.384228</td>\n",
       "      <td>6.915140</td>\n",
       "    </tr>\n",
       "    <tr>\n",
       "      <th>min</th>\n",
       "      <td>1.503960e+09</td>\n",
       "      <td>42.000000</td>\n",
       "      <td>0.000000</td>\n",
       "      <td>0.000000</td>\n",
       "    </tr>\n",
       "    <tr>\n",
       "      <th>25%</th>\n",
       "      <td>2.320127e+09</td>\n",
       "      <td>63.000000</td>\n",
       "      <td>0.000000</td>\n",
       "      <td>5.000000</td>\n",
       "    </tr>\n",
       "    <tr>\n",
       "      <th>50%</th>\n",
       "      <td>4.445115e+09</td>\n",
       "      <td>83.000000</td>\n",
       "      <td>40.000000</td>\n",
       "      <td>11.000000</td>\n",
       "    </tr>\n",
       "    <tr>\n",
       "      <th>75%</th>\n",
       "      <td>6.962181e+09</td>\n",
       "      <td>108.000000</td>\n",
       "      <td>357.000000</td>\n",
       "      <td>17.000000</td>\n",
       "    </tr>\n",
       "    <tr>\n",
       "      <th>max</th>\n",
       "      <td>8.877689e+09</td>\n",
       "      <td>948.000000</td>\n",
       "      <td>10554.000000</td>\n",
       "      <td>23.000000</td>\n",
       "    </tr>\n",
       "  </tbody>\n",
       "</table>\n",
       "</div>"
      ],
      "text/plain": [
       "                 Id      Calories     StepTotal          Hour\n",
       "count  2.209900e+04  22099.000000  22099.000000  22099.000000\n",
       "mean   4.848235e+09     97.386760    320.166342     11.415765\n",
       "std    2.422500e+09     60.702622    690.384228      6.915140\n",
       "min    1.503960e+09     42.000000      0.000000      0.000000\n",
       "25%    2.320127e+09     63.000000      0.000000      5.000000\n",
       "50%    4.445115e+09     83.000000     40.000000     11.000000\n",
       "75%    6.962181e+09    108.000000    357.000000     17.000000\n",
       "max    8.877689e+09    948.000000  10554.000000     23.000000"
      ]
     },
     "execution_count": 43,
     "metadata": {},
     "output_type": "execute_result"
    }
   ],
   "source": [
    "hourly_activity.describe()"
   ]
  },
  {
   "cell_type": "code",
   "execution_count": 44,
   "id": "7edc1917",
   "metadata": {
    "scrolled": true
   },
   "outputs": [
    {
     "data": {
      "text/html": [
       "<div>\n",
       "<style scoped>\n",
       "    .dataframe tbody tr th:only-of-type {\n",
       "        vertical-align: middle;\n",
       "    }\n",
       "\n",
       "    .dataframe tbody tr th {\n",
       "        vertical-align: top;\n",
       "    }\n",
       "\n",
       "    .dataframe thead th {\n",
       "        text-align: right;\n",
       "    }\n",
       "</style>\n",
       "<table border=\"1\" class=\"dataframe\">\n",
       "  <thead>\n",
       "    <tr style=\"text-align: right;\">\n",
       "      <th></th>\n",
       "      <th>Id</th>\n",
       "      <th>Calories</th>\n",
       "      <th>StepTotal</th>\n",
       "      <th>Hour</th>\n",
       "      <th>TotalSleepRecords</th>\n",
       "      <th>TotalMinutesAsleep</th>\n",
       "      <th>TotalTimeInBed</th>\n",
       "    </tr>\n",
       "  </thead>\n",
       "  <tbody>\n",
       "    <tr>\n",
       "      <th>count</th>\n",
       "      <td>9.771000e+03</td>\n",
       "      <td>9771.000000</td>\n",
       "      <td>9771.000000</td>\n",
       "      <td>9771.000000</td>\n",
       "      <td>9771.000000</td>\n",
       "      <td>9771.000000</td>\n",
       "      <td>9771.000000</td>\n",
       "    </tr>\n",
       "    <tr>\n",
       "      <th>mean</th>\n",
       "      <td>5.000942e+09</td>\n",
       "      <td>100.978917</td>\n",
       "      <td>358.765838</td>\n",
       "      <td>11.422884</td>\n",
       "      <td>1.120356</td>\n",
       "      <td>419.350322</td>\n",
       "      <td>458.607921</td>\n",
       "    </tr>\n",
       "    <tr>\n",
       "      <th>std</th>\n",
       "      <td>2.061194e+09</td>\n",
       "      <td>63.440338</td>\n",
       "      <td>652.628865</td>\n",
       "      <td>6.921320</td>\n",
       "      <td>0.347304</td>\n",
       "      <td>118.789342</td>\n",
       "      <td>127.597596</td>\n",
       "    </tr>\n",
       "    <tr>\n",
       "      <th>min</th>\n",
       "      <td>1.503960e+09</td>\n",
       "      <td>42.000000</td>\n",
       "      <td>0.000000</td>\n",
       "      <td>0.000000</td>\n",
       "      <td>1.000000</td>\n",
       "      <td>58.000000</td>\n",
       "      <td>61.000000</td>\n",
       "    </tr>\n",
       "    <tr>\n",
       "      <th>25%</th>\n",
       "      <td>3.977334e+09</td>\n",
       "      <td>63.000000</td>\n",
       "      <td>0.000000</td>\n",
       "      <td>5.000000</td>\n",
       "      <td>1.000000</td>\n",
       "      <td>361.000000</td>\n",
       "      <td>402.000000</td>\n",
       "    </tr>\n",
       "    <tr>\n",
       "      <th>50%</th>\n",
       "      <td>4.702922e+09</td>\n",
       "      <td>84.000000</td>\n",
       "      <td>107.000000</td>\n",
       "      <td>11.000000</td>\n",
       "      <td>1.000000</td>\n",
       "      <td>433.000000</td>\n",
       "      <td>463.000000</td>\n",
       "    </tr>\n",
       "    <tr>\n",
       "      <th>75%</th>\n",
       "      <td>6.962181e+09</td>\n",
       "      <td>117.000000</td>\n",
       "      <td>420.000000</td>\n",
       "      <td>17.000000</td>\n",
       "      <td>1.000000</td>\n",
       "      <td>490.000000</td>\n",
       "      <td>527.000000</td>\n",
       "    </tr>\n",
       "    <tr>\n",
       "      <th>max</th>\n",
       "      <td>8.792010e+09</td>\n",
       "      <td>669.000000</td>\n",
       "      <td>6357.000000</td>\n",
       "      <td>23.000000</td>\n",
       "      <td>3.000000</td>\n",
       "      <td>796.000000</td>\n",
       "      <td>961.000000</td>\n",
       "    </tr>\n",
       "  </tbody>\n",
       "</table>\n",
       "</div>"
      ],
      "text/plain": [
       "                 Id     Calories    StepTotal         Hour  TotalSleepRecords  \\\n",
       "count  9.771000e+03  9771.000000  9771.000000  9771.000000        9771.000000   \n",
       "mean   5.000942e+09   100.978917   358.765838    11.422884           1.120356   \n",
       "std    2.061194e+09    63.440338   652.628865     6.921320           0.347304   \n",
       "min    1.503960e+09    42.000000     0.000000     0.000000           1.000000   \n",
       "25%    3.977334e+09    63.000000     0.000000     5.000000           1.000000   \n",
       "50%    4.702922e+09    84.000000   107.000000    11.000000           1.000000   \n",
       "75%    6.962181e+09   117.000000   420.000000    17.000000           1.000000   \n",
       "max    8.792010e+09   669.000000  6357.000000    23.000000           3.000000   \n",
       "\n",
       "       TotalMinutesAsleep  TotalTimeInBed  \n",
       "count         9771.000000     9771.000000  \n",
       "mean           419.350322      458.607921  \n",
       "std            118.789342      127.597596  \n",
       "min             58.000000       61.000000  \n",
       "25%            361.000000      402.000000  \n",
       "50%            433.000000      463.000000  \n",
       "75%            490.000000      527.000000  \n",
       "max            796.000000      961.000000  "
      ]
     },
     "execution_count": 44,
     "metadata": {},
     "output_type": "execute_result"
    }
   ],
   "source": [
    "merged.describe()"
   ]
  },
  {
   "cell_type": "markdown",
   "id": "a796440e",
   "metadata": {},
   "source": [
    "#### Key findings\n",
    "- Out of 1218 Total minutes, 991 minutes were spent inactive (Sedentary). Approximately 228 active minutes were spent.\n",
    "- An average of 7638 total steps were taken by the users daily.\n",
    "- There is also an average of 2304 calories burnt daily.\n",
    "- Also, there is a positive correlation between steps taken and calories burnt."
   ]
  },
  {
   "cell_type": "markdown",
   "id": "d66e35c7",
   "metadata": {},
   "source": [
    "# Visualisation "
   ]
  },
  {
   "cell_type": "markdown",
   "id": "a77b00bd",
   "metadata": {},
   "source": [
    "### Correlation Matrix"
   ]
  },
  {
   "cell_type": "code",
   "execution_count": 37,
   "id": "a8f31f4f",
   "metadata": {
    "scrolled": false
   },
   "outputs": [
    {
     "data": {
      "image/png": "[encoded data removed]",
      "text/plain": [
       "<Figure size 600x400 with 2 Axes>"
      ]
     },
     "metadata": {},
     "output_type": "display_data"
    }
   ],
   "source": [
    "fig, ax = plt.subplots(figsize=(6, 4))\n",
    "Corr1 = [\"TotalDistance\", \"TotalSteps\", \"SedentaryMinutes\", \"TotalActiveMinutes\", \"Calories\"]\n",
    "\n",
    "ax = sns.heatmap(daily_activity[Corr1].corr(), \n",
    "            annot = True, \n",
    "            fmt = \".2f\",\n",
    "            linewidths=0.5,\n",
    "           cmap=\"mako\")\n",
    "ax.set_title('Correlation Matrix');"
   ]
  },
  {
   "cell_type": "markdown",
   "id": "7c6db3bc",
   "metadata": {},
   "source": [
    "-  We can observe that there is good relation between Calories and TotalDistance. \n",
    "-  And obviously SedentaryMinutes to TotalSteps, TotalActiveMinutes & Calories have a negative relation"
   ]
  },
  {
   "cell_type": "markdown",
   "id": "dca892dd",
   "metadata": {},
   "source": [
    "### Comparing Total Steps and  Sedentary Steps to Calories"
   ]
  },
  {
   "cell_type": "code",
   "execution_count": 38,
   "id": "423b615c",
   "metadata": {
    "scrolled": false
   },
   "outputs": [
    {
     "data": {
      "text/plain": [
       "<AxesSubplot:xlabel='Calories', ylabel='TotalSteps'>"
      ]
     },
     "execution_count": 38,
     "metadata": {},
     "output_type": "execute_result"
    },
    {
     "data": {
      "image/png": "[encoded data removed]",
      "text/plain": [
       "<Figure size 640x480 with 1 Axes>"
      ]
     },
     "metadata": {},
     "output_type": "display_data"
    }
   ],
   "source": [
    "#f, (ax0, ax1) = plt.subplots(figsize=(10, 10))\n",
    "#\n",
    "#scatter = ax0.scatter(x=np.ndarray(daily_activity[\"Calories\"]),\n",
    " #                    y=np.ndarray(daily_activity[\"TotalSteps\"]),\n",
    "  #                   color=\"#f22a51\")\n",
    "#ax0.set(title=\"Calories Burnt By Total Steps\",\n",
    " #      ylabel=\"Total Steps\")\n",
    "#ax0.legend(*scatter.legend_elements(), title=None)\n",
    "\n",
    "sns.scatterplot(data=daily_activity, x=\"Calories\", y=\"TotalSteps\")"
   ]
  },
  {
   "cell_type": "markdown",
   "id": "ab2391e1",
   "metadata": {},
   "source": [
    "- As steps increase the calories burnt are increased.\n",
    "- Most of the people have steps around 4000 to 12000. \n",
    "- While 8000 is recommended by professionals. Still there are many people below recommended mark."
   ]
  },
  {
   "cell_type": "markdown",
   "id": "4f12cd5a",
   "metadata": {},
   "source": [
    "### Total Steps Taken by Day of the Week"
   ]
  },
  {
   "cell_type": "code",
   "execution_count": 39,
   "id": "5850b9a7",
   "metadata": {
    "scrolled": false
   },
   "outputs": [
    {
     "data": {
      "image/png": "[encoded data removed]",
      "text/plain": [
       "<Figure size 800x500 with 1 Axes>"
      ]
     },
     "metadata": {},
     "output_type": "display_data"
    }
   ],
   "source": [
    "fig, ax = plt.subplots(figsize=(8,5))\n",
    "plt.bar(daily_activity.WeekDay, daily_activity.TotalSteps, \n",
    "        color = \"yellow\", )\n",
    "plt.xlabel(\"Week Day\")\n",
    "plt.ylabel(\"Total Steps Taken\")\n",
    "plt.title(\"Total Steps Taken by Day of the Week\")\n",
    "plt.grid()\n",
    "plt.show()"
   ]
  },
  {
   "cell_type": "markdown",
   "id": "851addbf",
   "metadata": {},
   "source": [
    "- Monday has least amount of steps because there is more work done \n",
    "- It can be said that people walk more on Weekends"
   ]
  },
  {
   "cell_type": "markdown",
   "id": "8bb99e0b",
   "metadata": {},
   "source": [
    "### Total Time Asleep By Day of The Week"
   ]
  },
  {
   "cell_type": "code",
   "execution_count": 40,
   "id": "755c9eca",
   "metadata": {
    "scrolled": false
   },
   "outputs": [
    {
     "data": {
      "image/png": "[encoded data removed]",
      "text/plain": [
       "<Figure size 800x500 with 1 Axes>"
      ]
     },
     "metadata": {},
     "output_type": "display_data"
    }
   ],
   "source": [
    "fig, ax = plt.subplots(figsize=(8,5))\n",
    "x = merged[\"WeekDay\"]\n",
    "y = merged[\"TotalMinutesAsleep\"]\n",
    "\n",
    "plt.title(\"Total Time Asleep By Day of The Week\")\n",
    "plt.bar(x, y, color = \"#f22a51\")\n",
    "plt.show()"
   ]
  },
  {
   "cell_type": "markdown",
   "id": "5cda0bc6",
   "metadata": {},
   "source": [
    "- Highest amount of sleep is on Sunday and Friday nights"
   ]
  },
  {
   "cell_type": "markdown",
   "id": "ce7c32c7",
   "metadata": {},
   "source": [
    "### The Most and Least Active Hours of The Day"
   ]
  },
  {
   "cell_type": "code",
   "execution_count": 41,
   "id": "85c0b743",
   "metadata": {
    "scrolled": false
   },
   "outputs": [
    {
     "data": {
      "image/png": "[encoded data removed]",
      "text/plain": [
       "<Figure size 800x500 with 1 Axes>"
      ]
     },
     "metadata": {},
     "output_type": "display_data"
    }
   ],
   "source": [
    "fig, axs = plt.subplots(figsize=(8, 5))\n",
    "hourly_activity.groupby(hourly_activity['Hour'])['StepTotal'].mean().plot(\n",
    "    kind='bar', \n",
    "    ax=axs, \n",
    "    color='skyblue', \n",
    "    title='The Most and Least Active Hours of The Day')\n",
    "plt.xlabel(\"Hour of the Day\")\n",
    "plt.ylabel(\"Total Steps\")\n",
    "plt.show()"
   ]
  },
  {
   "cell_type": "markdown",
   "id": "2cfd7a52",
   "metadata": {},
   "source": [
    "- The work starts at 8 in the morning and goes till 7 at night. \n",
    "- So the best time to reach them is at 8 to 10 at night with targetted ads"
   ]
  },
  {
   "cell_type": "markdown",
   "id": "b5f4fe41",
   "metadata": {},
   "source": [
    "# Final Act"
   ]
  },
  {
   "cell_type": "markdown",
   "id": "ba35cb0c",
   "metadata": {},
   "source": [
    "#### Increase Usage\n",
    "- Increase in steps can increase calories and simultaneously there will be increase in Product & Services. \n",
    "- So Personal motivation, Setting daily targets, Creating weekly or monthly reports for Daily targets can help the company.\n",
    "- A chatbot can be created that can help users motivate, guide with suggestions. Chatbot should be attractive so that users use it often.\n",
    "- A Reward mechanism can be a motivation. Users can be rewarded with coupons after reaching targets.\n",
    "***"
   ]
  },
  {
   "cell_type": "markdown",
   "id": "fb67a3c8",
   "metadata": {},
   "source": [
    "#### Promotion\n",
    "- Users need reason to get out and do something. \n",
    "- If they get news of events, facts, sports centre locations and facilities provided, information of surroundings & their city they will go out and do activity.\n",
    "- Company can also get ad revenue from promoters of this places & events.\n",
    "****"
   ]
  },
  {
   "cell_type": "markdown",
   "id": "bc546243",
   "metadata": {},
   "source": [
    "#### Membership\n",
    "- Use of membership will increase with more exclusive services in memberships.\n",
    "- Chatbot, Personalised Reports, Rewards, Exercise and Yoga trainers & content should be included in memberships.\n",
    "***"
   ]
  },
  {
   "cell_type": "markdown",
   "id": "80fabb16",
   "metadata": {},
   "source": [
    "#### Products\n",
    "- Wellness care products should be introduced on websites like Wearables, Exercise equipments, Healthcare products.\n",
    "- Wearables like different kinds of watches. Not just watches, but Smart Bracelets, Pendants, Rings can also be sold online.\n",
    "- And variety of products will increase the usage of these smart products \n",
    "***"
   ]
  },
  {
   "cell_type": "markdown",
   "id": "26b428b2",
   "metadata": {},
   "source": [
    "#### Social Media\n",
    "- Users get mostly inspired from social media content they consume.\n",
    "- Company should hire a creative social media team. \n",
    "- Content on social media should be interactive, sharing facts related to products & services of company, highly active on recent trends.\n",
    "- Social media complaints affect the business a lot, Social media team should be quick to handle this complaints."
   ]
  }
 ],
 "metadata": {
  "kernelspec": {
   "display_name": "Python 3 (ipykernel)",
   "language": "python",
   "name": "python3"
  },
  "language_info": {
   "codemirror_mode": {
    "name": "ipython",
    "version": 3
   },
   "file_extension": ".py",
   "mimetype": "text/x-python",
   "name": "python",
   "nbconvert_exporter": "python",
   "pygments_lexer": "ipython3",
   "version": "3.8.8"
  }
 },
 "nbformat": 4,
 "nbformat_minor": 5
}
